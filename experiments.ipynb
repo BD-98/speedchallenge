{
 "metadata": {
  "language_info": {
   "codemirror_mode": {
    "name": "ipython",
    "version": 3
   },
   "file_extension": ".py",
   "mimetype": "text/x-python",
   "name": "python",
   "nbconvert_exporter": "python",
   "pygments_lexer": "ipython3",
   "version": "3.8.5"
  },
  "orig_nbformat": 2,
  "kernelspec": {
   "name": "python3",
   "display_name": "Python 3",
   "language": "python"
  },
  "metadata": {
   "interpreter": {
    "hash": "916dbcbb3f70747c44a77c7bcd40155683ae19c65e1c03b4aa3499c5328201f1"
   }
  }
 },
 "nbformat": 4,
 "nbformat_minor": 2,
 "cells": [
  {
   "cell_type": "code",
   "execution_count": 2,
   "metadata": {},
   "outputs": [
    {
     "output_type": "stream",
     "name": "stdout",
     "text": [
      "Populating the interactive namespace from numpy and matplotlib\n"
     ]
    }
   ],
   "source": [
    "%pylab inline\n",
    "import torch\n",
    "import torch.nn as nn \n",
    "from tqdm import trange\n",
    "from of_dataset import OFDataset\n",
    "from efficientnet_pytorch import EfficientNet\n",
    "from torchvision.transforms import transforms\n",
    "from torch.utils.data import DataLoader\n",
    "\n",
    "device = torch.device(\"cuda\" if torch.cuda.is_available() else \"cpu\")"
   ]
  },
  {
   "source": [
    "## Pure EfficientNet Linear Regression"
   ],
   "cell_type": "markdown",
   "metadata": {}
  },
  {
   "cell_type": "code",
   "execution_count": 3,
   "metadata": {},
   "outputs": [],
   "source": [
    "# Load data \n",
    "transform = transforms.Compose([\n",
    "    transforms.Resize((224, 224)),\n",
    "    transforms.ToTensor()\n",
    "])\n",
    "trainset = OFDataset(root=\"data/of-train-images-color\", transform=transform)\n",
    "trainloader = DataLoader(trainset, batch_size=64, shuffle=True, num_workers=8)\n",
    "testset = OFDataset(root=\"data/of-test-images-color\", transform=transform)\n",
    "testloader = DataLoader(testset, batch_size=64, shuffle=False)\n",
    "\n",
    "\n"
   ]
  },
  {
   "cell_type": "code",
   "execution_count": 4,
   "metadata": {
    "tags": []
   },
   "outputs": [
    {
     "output_type": "stream",
     "name": "stdout",
     "text": [
      "Loaded pretrained weights for efficientnet-b0\n",
      "MSE Loss 8.568: 100%|██████████| 3/3 [05:05<00:00, 101.84s/it]\n"
     ]
    }
   ],
   "source": [
    "# Train model\n",
    "simple_model = EfficientNet.from_pretrained(\"efficientnet-b0\", num_classes=1)\n",
    "\n",
    "simple_model.to(device)\n",
    "loss_function = nn.MSELoss()\n",
    "opt = torch.optim.Adam(simple_model.parameters())\n",
    "epochs = 3\n",
    "\n",
    "for _ in (t := trange(epochs)):\n",
    "    for x,y in trainloader:\n",
    "        x,y = x.to(device), y.to(device)\n",
    "        y = y.unsqueeze(1).float()\n",
    "\n",
    "        # Forward Pass \n",
    "        out = simple_model(x)\n",
    "        loss = loss_function(out, y)\n",
    "\n",
    "        # Update Weights \n",
    "        opt.zero_grad()\n",
    "        loss.backward()\n",
    "        opt.step()\n",
    "        t.set_description(f\"MSE Loss {loss.item():.3f}\")\n",
    "\n",
    "\n",
    "\n",
    "\n",
    "    \n",
    "\n",
    "\n",
    "\n"
   ]
  },
  {
   "cell_type": "code",
   "execution_count": null,
   "metadata": {},
   "outputs": [],
   "source": []
  }
 ]
}